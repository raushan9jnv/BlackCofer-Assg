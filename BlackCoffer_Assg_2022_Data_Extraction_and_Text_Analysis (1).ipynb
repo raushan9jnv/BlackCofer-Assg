{
  "nbformat": 4,
  "nbformat_minor": 0,
  "metadata": {
    "colab": {
      "name": "BlackCoffer Assg 2022 Data Extraction and Text Analysis.ipynb",
      "provenance": []
    },
    "kernelspec": {
      "name": "python3",
      "display_name": "Python 3"
    },
    "language_info": {
      "name": "python"
    }
  },
  "cells": [
    {
      "cell_type": "code",
      "source": [
        "import pandas as pd\n"
      ],
      "metadata": {
        "id": "_G7JYQqaioe8"
      },
      "execution_count": 1,
      "outputs": []
    },
    {
      "cell_type": "code",
      "execution_count": 2,
      "metadata": {
        "id": "UpXN6uwigYoN"
      },
      "outputs": [],
      "source": [
        "input_file = '/content/drive/MyDrive/Data Science/BlackCoffer Assg/Data/Input.xlsx'"
      ]
    },
    {
      "cell_type": "code",
      "source": [
        "df = pd.read_excel(input_file)\n",
        "df"
      ],
      "metadata": {
        "colab": {
          "base_uri": "https://localhost:8080/",
          "height": 423
        },
        "id": "oHHZDkCQiZph",
        "outputId": "8305c933-e9e8-46e2-d3c6-2c6b31d2579f"
      },
      "execution_count": 4,
      "outputs": [
        {
          "output_type": "execute_result",
          "data": {
            "text/html": [
              "\n",
              "  <div id=\"df-d4cb2d28-af4e-4122-9a4f-efe75718362d\">\n",
              "    <div class=\"colab-df-container\">\n",
              "      <div>\n",
              "<style scoped>\n",
              "    .dataframe tbody tr th:only-of-type {\n",
              "        vertical-align: middle;\n",
              "    }\n",
              "\n",
              "    .dataframe tbody tr th {\n",
              "        vertical-align: top;\n",
              "    }\n",
              "\n",
              "    .dataframe thead th {\n",
              "        text-align: right;\n",
              "    }\n",
              "</style>\n",
              "<table border=\"1\" class=\"dataframe\">\n",
              "  <thead>\n",
              "    <tr style=\"text-align: right;\">\n",
              "      <th></th>\n",
              "      <th>URL_ID</th>\n",
              "      <th>URL</th>\n",
              "    </tr>\n",
              "  </thead>\n",
              "  <tbody>\n",
              "    <tr>\n",
              "      <th>0</th>\n",
              "      <td>1</td>\n",
              "      <td>https://insights.blackcoffer.com/how-is-login-...</td>\n",
              "    </tr>\n",
              "    <tr>\n",
              "      <th>1</th>\n",
              "      <td>2</td>\n",
              "      <td>https://insights.blackcoffer.com/how-does-ai-h...</td>\n",
              "    </tr>\n",
              "    <tr>\n",
              "      <th>2</th>\n",
              "      <td>3</td>\n",
              "      <td>https://insights.blackcoffer.com/ai-and-its-im...</td>\n",
              "    </tr>\n",
              "    <tr>\n",
              "      <th>3</th>\n",
              "      <td>4</td>\n",
              "      <td>https://insights.blackcoffer.com/how-do-deep-l...</td>\n",
              "    </tr>\n",
              "    <tr>\n",
              "      <th>4</th>\n",
              "      <td>5</td>\n",
              "      <td>https://insights.blackcoffer.com/how-artificia...</td>\n",
              "    </tr>\n",
              "    <tr>\n",
              "      <th>...</th>\n",
              "      <td>...</td>\n",
              "      <td>...</td>\n",
              "    </tr>\n",
              "    <tr>\n",
              "      <th>165</th>\n",
              "      <td>167</td>\n",
              "      <td>https://insights.blackcoffer.com/role-big-data...</td>\n",
              "    </tr>\n",
              "    <tr>\n",
              "      <th>166</th>\n",
              "      <td>168</td>\n",
              "      <td>https://insights.blackcoffer.com/sales-forecas...</td>\n",
              "    </tr>\n",
              "    <tr>\n",
              "      <th>167</th>\n",
              "      <td>169</td>\n",
              "      <td>https://insights.blackcoffer.com/detect-data-e...</td>\n",
              "    </tr>\n",
              "    <tr>\n",
              "      <th>168</th>\n",
              "      <td>170</td>\n",
              "      <td>https://insights.blackcoffer.com/data-exfiltra...</td>\n",
              "    </tr>\n",
              "    <tr>\n",
              "      <th>169</th>\n",
              "      <td>171</td>\n",
              "      <td>https://insights.blackcoffer.com/impacts-of-co...</td>\n",
              "    </tr>\n",
              "  </tbody>\n",
              "</table>\n",
              "<p>170 rows × 2 columns</p>\n",
              "</div>\n",
              "      <button class=\"colab-df-convert\" onclick=\"convertToInteractive('df-d4cb2d28-af4e-4122-9a4f-efe75718362d')\"\n",
              "              title=\"Convert this dataframe to an interactive table.\"\n",
              "              style=\"display:none;\">\n",
              "        \n",
              "  <svg xmlns=\"http://www.w3.org/2000/svg\" height=\"24px\"viewBox=\"0 0 24 24\"\n",
              "       width=\"24px\">\n",
              "    <path d=\"M0 0h24v24H0V0z\" fill=\"none\"/>\n",
              "    <path d=\"M18.56 5.44l.94 2.06.94-2.06 2.06-.94-2.06-.94-.94-2.06-.94 2.06-2.06.94zm-11 1L8.5 8.5l.94-2.06 2.06-.94-2.06-.94L8.5 2.5l-.94 2.06-2.06.94zm10 10l.94 2.06.94-2.06 2.06-.94-2.06-.94-.94-2.06-.94 2.06-2.06.94z\"/><path d=\"M17.41 7.96l-1.37-1.37c-.4-.4-.92-.59-1.43-.59-.52 0-1.04.2-1.43.59L10.3 9.45l-7.72 7.72c-.78.78-.78 2.05 0 2.83L4 21.41c.39.39.9.59 1.41.59.51 0 1.02-.2 1.41-.59l7.78-7.78 2.81-2.81c.8-.78.8-2.07 0-2.86zM5.41 20L4 18.59l7.72-7.72 1.47 1.35L5.41 20z\"/>\n",
              "  </svg>\n",
              "      </button>\n",
              "      \n",
              "  <style>\n",
              "    .colab-df-container {\n",
              "      display:flex;\n",
              "      flex-wrap:wrap;\n",
              "      gap: 12px;\n",
              "    }\n",
              "\n",
              "    .colab-df-convert {\n",
              "      background-color: #E8F0FE;\n",
              "      border: none;\n",
              "      border-radius: 50%;\n",
              "      cursor: pointer;\n",
              "      display: none;\n",
              "      fill: #1967D2;\n",
              "      height: 32px;\n",
              "      padding: 0 0 0 0;\n",
              "      width: 32px;\n",
              "    }\n",
              "\n",
              "    .colab-df-convert:hover {\n",
              "      background-color: #E2EBFA;\n",
              "      box-shadow: 0px 1px 2px rgba(60, 64, 67, 0.3), 0px 1px 3px 1px rgba(60, 64, 67, 0.15);\n",
              "      fill: #174EA6;\n",
              "    }\n",
              "\n",
              "    [theme=dark] .colab-df-convert {\n",
              "      background-color: #3B4455;\n",
              "      fill: #D2E3FC;\n",
              "    }\n",
              "\n",
              "    [theme=dark] .colab-df-convert:hover {\n",
              "      background-color: #434B5C;\n",
              "      box-shadow: 0px 1px 3px 1px rgba(0, 0, 0, 0.15);\n",
              "      filter: drop-shadow(0px 1px 2px rgba(0, 0, 0, 0.3));\n",
              "      fill: #FFFFFF;\n",
              "    }\n",
              "  </style>\n",
              "\n",
              "      <script>\n",
              "        const buttonEl =\n",
              "          document.querySelector('#df-d4cb2d28-af4e-4122-9a4f-efe75718362d button.colab-df-convert');\n",
              "        buttonEl.style.display =\n",
              "          google.colab.kernel.accessAllowed ? 'block' : 'none';\n",
              "\n",
              "        async function convertToInteractive(key) {\n",
              "          const element = document.querySelector('#df-d4cb2d28-af4e-4122-9a4f-efe75718362d');\n",
              "          const dataTable =\n",
              "            await google.colab.kernel.invokeFunction('convertToInteractive',\n",
              "                                                     [key], {});\n",
              "          if (!dataTable) return;\n",
              "\n",
              "          const docLinkHtml = 'Like what you see? Visit the ' +\n",
              "            '<a target=\"_blank\" href=https://colab.research.google.com/notebooks/data_table.ipynb>data table notebook</a>'\n",
              "            + ' to learn more about interactive tables.';\n",
              "          element.innerHTML = '';\n",
              "          dataTable['output_type'] = 'display_data';\n",
              "          await google.colab.output.renderOutput(dataTable, element);\n",
              "          const docLink = document.createElement('div');\n",
              "          docLink.innerHTML = docLinkHtml;\n",
              "          element.appendChild(docLink);\n",
              "        }\n",
              "      </script>\n",
              "    </div>\n",
              "  </div>\n",
              "  "
            ],
            "text/plain": [
              "     URL_ID                                                URL\n",
              "0         1  https://insights.blackcoffer.com/how-is-login-...\n",
              "1         2  https://insights.blackcoffer.com/how-does-ai-h...\n",
              "2         3  https://insights.blackcoffer.com/ai-and-its-im...\n",
              "3         4  https://insights.blackcoffer.com/how-do-deep-l...\n",
              "4         5  https://insights.blackcoffer.com/how-artificia...\n",
              "..      ...                                                ...\n",
              "165     167  https://insights.blackcoffer.com/role-big-data...\n",
              "166     168  https://insights.blackcoffer.com/sales-forecas...\n",
              "167     169  https://insights.blackcoffer.com/detect-data-e...\n",
              "168     170  https://insights.blackcoffer.com/data-exfiltra...\n",
              "169     171  https://insights.blackcoffer.com/impacts-of-co...\n",
              "\n",
              "[170 rows x 2 columns]"
            ]
          },
          "metadata": {},
          "execution_count": 4
        }
      ]
    },
    {
      "cell_type": "code",
      "execution_count": 5,
      "metadata": {
        "id": "w-9VZrO91Ajp"
      },
      "outputs": [],
      "source": [
        "import pandas as pd\n",
        "import requests\n",
        "from bs4 import BeautifulSoup"
      ]
    },
    {
      "cell_type": "markdown",
      "source": [
        "# single url"
      ],
      "metadata": {
        "id": "5vPrTTkz9u1q"
      }
    },
    {
      "cell_type": "code",
      "source": [
        "url = \"https://insights.blackcoffer.com/how-is-login-logout-time-tracking-for-employees-in-office-done-by-ai/\"\n",
        "headers = {\n",
        "    \"User-Agent\": \"Mozilla/5.0 (X11; Linux x86_64; rv:60.0) Gecko/20100101 Firefox/60.0\"\n",
        "}\n",
        "page = requests.get(url,headers = headers)\n",
        "soup = BeautifulSoup(page.content,'html.parser')\n",
        "article = soup.findAll(\"p\",text= True)\n",
        "article_list = [x.get_text() for x in article]  # remove <p>, saved in a list\n",
        "article_str = ''.join(str(e) for e in article_list)  # convert it into string for exporting in txt file\n",
        "article_str"
      ],
      "metadata": {
        "id": "iM0b1uLf1PrO",
        "colab": {
          "base_uri": "https://localhost:8080/",
          "height": 145
        },
        "outputId": "eee55fb2-7b98-4850-c12a-f9d0250ce1fc"
      },
      "execution_count": 6,
      "outputs": [
        {
          "output_type": "execute_result",
          "data": {
            "application/vnd.google.colaboratory.intrinsic+json": {
              "type": "string"
            },
            "text/plain": [
              "'When people hear AI they often think about sentient robots and magic boxes. AI today is much more mundane and simple—but that doesn’t mean it’s not powerful. Another misconception is that high-profile research projects can be applied directly to any business situation. AI done right can create an extreme return on investments (ROIs)—for instance through automation or precise prediction. But it does take thought, time, and proper implementation. We have seen that success and value generated by AI projects are increased when there is a grounded understanding and expectation of what the technology can deliver from the C-suite down.“Artificial Intelligence (AI) is a science and a set of computational technologies that are inspired by—but typically operate quite differently from—the ways people use their nervous systems and bodies to sense, learn, reason and take action.”3 Lately there has been a big rise in the day-to-day use of machines powered by AI. These machines are wired using cross-disciplinary approaches based on mathematics, computer science, statistics, psychology, and more.4 Virtual assistants are becoming more common, most of the web shops predict your purchases, many companies make use of chatbots in their customer service and many companies use algorithms to detect fraud.AI and Deep Learning technology employed in office entry systems will bring proper time tracking of each employee. As this system tries to learn each person with an image processing technology whose data is feed forwarded to a deep learning model where Deep learning isn’t an algorithm per se, but rather a family of algorithms that implements deep networks (many layers). These networks are so deep that new methods of computation, such as graphics processing units (GPUs), are required to train them, in addition to clusters of compute nodes. So using deep learning we can take detect the employee using face and person recognition scan and through which login, logout timing is recorded. Using an AI system we can even identify each employee’s entry time, their working hours, non-working hours by tracking the movement of an employee in the office so that system can predict and report HR for the salary for each employee based on their working hours. Our system can take feed from CCTV to track movements of employees and this system is capable of recognizing a person even he/she is being masked as in this pandemic situation by taking their iris scan. With this system installed inside the office, the following are some of the benefits:For several countries, regulations insist that the employer must keep documents available that can demonstrate the working hours performed by each employee. In the event of control from the labor inspectorate or a dispute with an employee, the employer must be able to explain and justify the working hours for the company. This can be made easy as our system is tracking employee movementsThis is about monitoring user connection times to detect suspicious access times. In the event where compromised credentials are used to log on at 3 a.m. on a Saturday, a notification on this access could alert the IT team that an attack is possibly underway.To manage and react to employees’ attendance, overtime thresholds, productivity, and suspicious access times, our system records and stores detailed and interactive reporting on users’ connection times. These records allow you to better manage users’ connection times and provide accurate, detailed data required by management.4)If you want to avoid paying overtime, make sure that your employees respect certain working time quotas or even avoid suspicious access. Our system will alert the HR officer about each employee’s office in and out time so that they can accordingly take action.5)Last but not least it reduces human resource needs to keep track of the records and sending the report to HR and HR officials has to check through the report so this system will reduce times and human resource needsWith the use of AI and Deep Learning technologies, we can automate some routines stuff with more functionality which humans need more resources to keep track thereby reducing time spent on manual data entry works rather companies can think of making their position high in the competitive world.'"
            ]
          },
          "metadata": {},
          "execution_count": 6
        }
      ]
    },
    {
      "cell_type": "code",
      "source": [
        "with open('1.txt', 'w', encoding='utf-8') as f:\n",
        "    f.write(f'{soup.h1.text}\\n \\n {article_str}')"
      ],
      "metadata": {
        "id": "eVAD7lW2SsQZ"
      },
      "execution_count": 7,
      "outputs": []
    },
    {
      "cell_type": "markdown",
      "source": [
        "# final loop"
      ],
      "metadata": {
        "id": "OOdLmavh9sVo"
      }
    },
    {
      "cell_type": "markdown",
      "source": [
        "Saved all urls article into a list and later iterate it over index value and export as txt with url_id as their filename."
      ],
      "metadata": {
        "id": "uyLqBHAg82HL"
      }
    },
    {
      "cell_type": "code",
      "source": [
        "article_all = []   # contain all article in list as index 0 means first url_id article.\n",
        "title_all =[]\n",
        "for url in df['URL']:\n",
        "  page = requests.get(url,headers = headers)\n",
        "  soup = BeautifulSoup(page.content,'html.parser')\n",
        "  article = soup.findAll(\"p\",text= True)\n",
        "  article_list = [x.get_text() for x in article]  # remove <p>, saved in a list\n",
        "  article_str = ''.join(str(e) for e in article_list)  # convert it into string for exporting in txt file\n",
        "# article_str\n",
        "  article_all.append(article_str)\n",
        "\n",
        "print('All Articles saved to article_all')"
      ],
      "metadata": {
        "colab": {
          "base_uri": "https://localhost:8080/"
        },
        "outputId": "4f8807c0-16f7-49be-f736-1e54584617bc",
        "id": "eZI8eKMR9q0R"
      },
      "execution_count": 9,
      "outputs": [
        {
          "output_type": "stream",
          "name": "stdout",
          "text": [
            "All Articles saved to article_all\n"
          ]
        }
      ]
    },
    {
      "cell_type": "markdown",
      "source": [
        "Saved all title name into a list and later iterate it over index value and put it with article."
      ],
      "metadata": {
        "id": "FONpntfy9Qmz"
      }
    },
    {
      "cell_type": "code",
      "source": [
        "title_all = []   # contain all title name in a list as index 0 means first url_id title.\n",
        " \n",
        "for url in df['URL']:\n",
        "  page = requests.get(url,headers = headers)\n",
        "  soup = BeautifulSoup(page.content,'html.parser')\n",
        "  title = soup.h1.text  #extract title\n",
        "  title_all.append(title) # append title into a list\n",
        "\n",
        "print('All title saved to title_all')"
      ],
      "metadata": {
        "colab": {
          "base_uri": "https://localhost:8080/"
        },
        "id": "NV0AYK4D6C_r",
        "outputId": "bb43bdf8-3b12-456a-a960-99698c5e4751"
      },
      "execution_count": 23,
      "outputs": [
        {
          "output_type": "stream",
          "name": "stdout",
          "text": [
            "All title saved to title_all\n"
          ]
        }
      ]
    },
    {
      "cell_type": "code",
      "source": [
        "# how it look\n",
        "title_all"
      ],
      "metadata": {
        "id": "xEOE3vZg75eP"
      },
      "execution_count": null,
      "outputs": []
    },
    {
      "cell_type": "markdown",
      "source": [
        "Saving title and article as txt file into my google drive location."
      ],
      "metadata": {
        "id": "KCakBU6T9nON"
      }
    },
    {
      "cell_type": "code",
      "source": [
        "count = 0    #initlize for looping  article_all\n",
        "\n",
        "for z in df['URL_ID']:\n",
        "  with open(f'/content/drive/MyDrive/Data Science/BlackCoffer Assg/Extracted Text and title file with URL_ID name/{z}.txt', 'w', encoding='utf-8') as f: # save to google drive file location\n",
        "    f.write(f'{title_all[count]}\\n \\n {article_all[count]}') #write title and article to .txt file with file name as their URL_ID.\n",
        "    count = count +1\n",
        "print('Title and Respective article saved successfully with file name as their URL_ID.')"
      ],
      "metadata": {
        "id": "nU_mUmj49q0S",
        "colab": {
          "base_uri": "https://localhost:8080/"
        },
        "outputId": "546ee9f0-bac2-4dde-91c6-84a3e385cc09"
      },
      "execution_count": 26,
      "outputs": [
        {
          "output_type": "stream",
          "name": "stdout",
          "text": [
            "Title and respective article saved successfully with file name as their URL_ID.\n"
          ]
        }
      ]
    },
    {
      "cell_type": "markdown",
      "source": [
        "### Define a function to open txt file"
      ],
      "metadata": {
        "id": "vUBtzZqiALOU"
      }
    },
    {
      "cell_type": "code",
      "source": [
        "def open_article_with_url_id(url_id):\n",
        "  file_path = '/content/drive/MyDrive/Data Science/BlackCoffer Assg/Extracted Text and title file with URL_ID name/'\n",
        "  file = file_path + f'{url_id}.txt'\n",
        "  f=open(file,'r')\n",
        "  data = f.read()\n",
        "  return print(data)"
      ],
      "metadata": {
        "id": "07_kdsMh_GSh"
      },
      "execution_count": 36,
      "outputs": []
    },
    {
      "cell_type": "code",
      "source": [
        "# This will return title and respective title of url_id passed.\n",
        "\n",
        "open_article_with_url_id(1)"
      ],
      "metadata": {
        "colab": {
          "base_uri": "https://localhost:8080/"
        },
        "id": "tGHuNfMT_yJF",
        "outputId": "3009862c-ba41-48c9-8fd2-0a9fa51ac244"
      },
      "execution_count": 39,
      "outputs": [
        {
          "output_type": "stream",
          "name": "stdout",
          "text": [
            "How is Login Logout Time Tracking for Employees in Office done by AI?\n",
            " \n",
            " When people hear AI they often think about sentient robots and magic boxes. AI today is much more mundane and simple—but that doesn’t mean it’s not powerful. Another misconception is that high-profile research projects can be applied directly to any business situation. AI done right can create an extreme return on investments (ROIs)—for instance through automation or precise prediction. But it does take thought, time, and proper implementation. We have seen that success and value generated by AI projects are increased when there is a grounded understanding and expectation of what the technology can deliver from the C-suite down.“Artificial Intelligence (AI) is a science and a set of computational technologies that are inspired by—but typically operate quite differently from—the ways people use their nervous systems and bodies to sense, learn, reason and take action.”3 Lately there has been a big rise in the day-to-day use of machines powered by AI. These machines are wired using cross-disciplinary approaches based on mathematics, computer science, statistics, psychology, and more.4 Virtual assistants are becoming more common, most of the web shops predict your purchases, many companies make use of chatbots in their customer service and many companies use algorithms to detect fraud.AI and Deep Learning technology employed in office entry systems will bring proper time tracking of each employee. As this system tries to learn each person with an image processing technology whose data is feed forwarded to a deep learning model where Deep learning isn’t an algorithm per se, but rather a family of algorithms that implements deep networks (many layers). These networks are so deep that new methods of computation, such as graphics processing units (GPUs), are required to train them, in addition to clusters of compute nodes. So using deep learning we can take detect the employee using face and person recognition scan and through which login, logout timing is recorded. Using an AI system we can even identify each employee’s entry time, their working hours, non-working hours by tracking the movement of an employee in the office so that system can predict and report HR for the salary for each employee based on their working hours. Our system can take feed from CCTV to track movements of employees and this system is capable of recognizing a person even he/she is being masked as in this pandemic situation by taking their iris scan. With this system installed inside the office, the following are some of the benefits:For several countries, regulations insist that the employer must keep documents available that can demonstrate the working hours performed by each employee. In the event of control from the labor inspectorate or a dispute with an employee, the employer must be able to explain and justify the working hours for the company. This can be made easy as our system is tracking employee movementsThis is about monitoring user connection times to detect suspicious access times. In the event where compromised credentials are used to log on at 3 a.m. on a Saturday, a notification on this access could alert the IT team that an attack is possibly underway.To manage and react to employees’ attendance, overtime thresholds, productivity, and suspicious access times, our system records and stores detailed and interactive reporting on users’ connection times. These records allow you to better manage users’ connection times and provide accurate, detailed data required by management.4)If you want to avoid paying overtime, make sure that your employees respect certain working time quotas or even avoid suspicious access. Our system will alert the HR officer about each employee’s office in and out time so that they can accordingly take action.5)Last but not least it reduces human resource needs to keep track of the records and sending the report to HR and HR officials has to check through the report so this system will reduce times and human resource needsWith the use of AI and Deep Learning technologies, we can automate some routines stuff with more functionality which humans need more resources to keep track thereby reducing time spent on manual data entry works rather companies can think of making their position high in the competitive world.\n"
          ]
        }
      ]
    },
    {
      "cell_type": "code",
      "source": [
        "open_article_with_url_id(171)"
      ],
      "metadata": {
        "colab": {
          "base_uri": "https://localhost:8080/"
        },
        "id": "kPMZKCgOAzEI",
        "outputId": "02a86b18-20bd-49a2-f72b-43ad30ee277e"
      },
      "execution_count": 42,
      "outputs": [
        {
          "output_type": "stream",
          "name": "stdout",
          "text": [
            "Impacts of COVID 19 on Food products\n",
            " \n",
            " Some vendors (fruit and vegetable sellers) began venturing out after a few days without explicit permission and immediately faced police harassment. After a few weeks, the government eased restrictions and essential vendors were being permitted to vend (due in large part to the advocacy of vendor organizations and activist networks). However, the cost of doing business, as well as the risk, has gone up significantly, with vendors not having access to wholesale markets and suppliers and having to spend more on travel costs due to travel restrictions in place in the city. Also, with the lockdown still partially in place, the number of buyers has gone down and so have earnings. Due to the harsh summer heat, perishable fruits and vegetables also have a reduced shelf life so vendors are unable to capitalize on whatever produce they do have.The state has recently announced a stimulus package of INR 5000 crore for nearly 50 lakh vendors, acknowledging the grave impact of their loss of livelihood. The intended relief for vendors will be a credit loan that will provide an initial working capital of INR 10,000 for all vendors, but this is not sufficient. Instead of credit, the government should think of converting it into direct income benefit, a cash grant, as livelihood support to start the income activity regularly. The vendors need income support to be able to restart work, and if they are not able to do so, how will they return the loan. In the face of the ever-changing crisis, vendor organizations have to step forward and advocate for vendors to be provided the resources they need to be able to resume their livelihoods. To this end, vendors organizations could consider the following for an advocacy agenda:\n"
          ]
        }
      ]
    },
    {
      "cell_type": "markdown",
      "source": [
        "# **Data Analysis**"
      ],
      "metadata": {
        "id": "MqlVM5Ycnw_B"
      }
    }
  ]
}